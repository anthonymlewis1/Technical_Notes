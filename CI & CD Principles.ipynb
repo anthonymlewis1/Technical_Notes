{
 "cells": [
  {
   "cell_type": "markdown",
   "metadata": {},
   "source": [
    "# CI / CD Guide\n",
    "\n",
    "## CI Principles\n",
    "* CI: Continous Integration\n",
    "* Practice of automating code change integration from multiple contributors into a single software project\n",
    "* Code will typically build/test\n",
    "\n",
    "## Build\n",
    "  * Mortgage Jenkins via webhook\n",
    "  * This already is prebuilt via MTGE ENG\n",
    "  * Typically, an enterprise will have a Jenkins service running\n",
    "\n",
    "## Test\n",
    "  * We have this setup via precommit.sh file\n",
    "  * Typically will house unittests/linting/etc.\n",
    "  * You *could* put this in the Jenkins file but it's much cleaner here\n",
    "  * Environment will either succeed or fail\n",
    "\n",
    "### Benefits of CI\n",
    "* *Non-CI Environment Problems*\n",
    "     * Slow, buggy release of code\n",
    "     * Adds bureucratic costs to projects\n",
    "     * Teams must coordinate when to sequentially launch features / fixes\n",
    "* Enables better transparency/insight into the process of development/delivery\n",
    "* Removes organizational dependencies b/w development of features\n",
    "* Speeds up feedback on code reviews\n",
    "\n",
    "***\n",
    "\n",
    "## CD Principles\n",
    "* CD: Continuous Deployment\n",
    "* Software release strategy where code that passes automated testing is released onto the production environment\n",
    "* ***NOT Continuous Delivery***\n",
    "    * Continuous Delivery = Code is handed off to QA/Operations for testing\n",
    "    * Continous ***Deployment*** does not have a time lag from testing to moving onto production\n",
    "* Popular Monitoring Tools: \n",
    "  * Splunk\n",
    "\n",
    "### Benefits of CD\n",
    "* Typically will have scripts/tools that move the artifacts to pulic servers or things like app stores\n",
    "* Eliminates DIY for deployment\n",
    "* Automates repetitive tasks\n",
    "* Deployments are frictionless w/o compromising security\n",
    "    "
   ]
  },
  {
   "cell_type": "code",
   "execution_count": null,
   "metadata": {},
   "outputs": [],
   "source": []
  }
 ],
 "metadata": {
  "kernelspec": {
   "display_name": "Python 3",
   "language": "python",
   "name": "python3"
  },
  "language_info": {
   "codemirror_mode": {
    "name": "ipython",
    "version": 3
   },
   "file_extension": ".py",
   "mimetype": "text/x-python",
   "name": "python",
   "nbconvert_exporter": "python",
   "pygments_lexer": "ipython3",
   "version": "3.6.5"
  },
  "widgets": {
   "application/vnd.jupyter.widget-state+json": {
    "state": {},
    "version_major": 2,
    "version_minor": 0
   }
  }
 },
 "nbformat": 4,
 "nbformat_minor": 2
}
