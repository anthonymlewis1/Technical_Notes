{
 "cells": [
  {
   "cell_type": "markdown",
   "id": "statutory-dressing",
   "metadata": {},
   "source": [
    "# Designing Data-Intensive Applications Notes"
   ]
  },
  {
   "cell_type": "markdown",
   "id": "ceramic-acoustic",
   "metadata": {},
   "source": [
    "## Chapter 1: Reliable, Scalable, and Maintainable Applications\n",
    "\n",
    "* Introduces terminology and approach "
   ]
  }
 ],
 "metadata": {
  "kernelspec": {
   "display_name": "Python 3",
   "language": "python",
   "name": "python3"
  },
  "language_info": {
   "codemirror_mode": {
    "name": "ipython",
    "version": 3
   },
   "file_extension": ".py",
   "mimetype": "text/x-python",
   "name": "python",
   "nbconvert_exporter": "python",
   "pygments_lexer": "ipython3",
   "version": "3.6.5"
  }
 },
 "nbformat": 4,
 "nbformat_minor": 5
}
