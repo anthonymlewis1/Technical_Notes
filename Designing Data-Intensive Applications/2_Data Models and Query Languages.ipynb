{
 "cells": [
  {
   "cell_type": "markdown",
   "id": "fuzzy-planning",
   "metadata": {},
   "source": [
    "# Designing Data-Intensive Applications Notes"
   ]
  },
  {
   "cell_type": "markdown",
   "id": "possible-commerce",
   "metadata": {},
   "source": [
    "## Chapter 2: Data Models and Query Languages\n",
    "\n",
    "> The limits of my language mean the limits of my world.\n",
    "—Ludwig Wittgenstein"
   ]
  },
  {
   "cell_type": "markdown",
   "id": "scientific-murder",
   "metadata": {},
   "source": [
    "* Clean data models hide the complexity of the layers below it\n",
    "* There are many types of data models as they are specific to each application\n",
    "    * All will have their pros / cons associated with them\n",
    "    \n",
    "### Relational Model vs. Document Model\n",
    "* SQL:\n",
    "    * Best known data model today\n",
    "    * Data is organized into ***relations***\n",
    "        * AKA tables\n",
    "    * Relations are composed of ***tuples***\n",
    "        * AKA rows\n",
    "* History of the Relational Model\n",
    "    * Created originally in the 1970's\n",
    "    * Was originally created for business data processing\n",
    "        * Now is used for many facets of society:\n",
    "            * ecommerce, games, SASP, etc.\n",
    "    * Primary Alternatives:\n",
    "        * Network Model\n",
    "        * Hierarchical Mdoel\n",
    "        * Object Databases\n",
    "        "
   ]
  },
  {
   "cell_type": "code",
   "execution_count": null,
   "id": "nuclear-consciousness",
   "metadata": {},
   "outputs": [],
   "source": []
  }
 ],
 "metadata": {
  "kernelspec": {
   "display_name": "Python 3",
   "language": "python",
   "name": "python3"
  },
  "language_info": {
   "codemirror_mode": {
    "name": "ipython",
    "version": 3
   },
   "file_extension": ".py",
   "mimetype": "text/x-python",
   "name": "python",
   "nbconvert_exporter": "python",
   "pygments_lexer": "ipython3",
   "version": "3.6.5"
  }
 },
 "nbformat": 4,
 "nbformat_minor": 5
}
