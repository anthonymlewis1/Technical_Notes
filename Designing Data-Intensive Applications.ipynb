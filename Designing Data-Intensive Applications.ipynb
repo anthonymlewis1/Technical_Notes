{
 "cells": [
  {
   "cell_type": "markdown",
   "id": "unsigned-permission",
   "metadata": {},
   "source": [
    "# Designing Data-Intensive Applications Notes\n",
    "\n",
    "Just a nice follow along guide for this amazing book by Martin Kleppmann. "
   ]
  },
  {
   "cell_type": "markdown",
   "id": "improved-dutch",
   "metadata": {},
   "source": [
    "## 1: Reliable, Scalable, and Maintainable Applications"
   ]
  },
  {
   "cell_type": "markdown",
   "id": "bizarre-exclusion",
   "metadata": {},
   "source": [
    "## 2: Data Models and Query Languages"
   ]
  },
  {
   "cell_type": "markdown",
   "id": "sexual-genome",
   "metadata": {},
   "source": [
    "## 3: Storage and Retrieval"
   ]
  },
  {
   "cell_type": "markdown",
   "id": "commercial-charge",
   "metadata": {},
   "source": [
    "## 4: Encoding and Evolution"
   ]
  },
  {
   "cell_type": "code",
   "execution_count": null,
   "id": "included-clark",
   "metadata": {},
   "outputs": [],
   "source": []
  }
 ],
 "metadata": {
  "kernelspec": {
   "display_name": "Python 3",
   "language": "python",
   "name": "python3"
  },
  "language_info": {
   "codemirror_mode": {
    "name": "ipython",
    "version": 3
   },
   "file_extension": ".py",
   "mimetype": "text/x-python",
   "name": "python",
   "nbconvert_exporter": "python",
   "pygments_lexer": "ipython3",
   "version": "3.6.5"
  }
 },
 "nbformat": 4,
 "nbformat_minor": 5
}
