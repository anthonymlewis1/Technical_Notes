{
 "cells": [
  {
   "cell_type": "markdown",
   "id": "6cc25eb5",
   "metadata": {},
   "source": [
    "# Rabbit MQ\n",
    "\n",
    "## What is RabbitMQ\n",
    "* Most widely deployed open source message broker\n",
    "* Passing messages between applications:\n",
    "    * Applications can publish and/or read messages\n",
    "* Exchange vs. Queue: \n",
    "    * Publishers send a message to an exchange\n",
    "    * The exchange can route to multiple things!\n",
    "* Each type of consumer needs its own queue!\n",
    "    * Multiple replicas can share a queue\n",
    "    * Independent applications that need the same data need their own queue\n",
    "    \n",
    "## Rabbit MQ Concepts\n",
    "* Persistent messages:\n",
    "    * Once messages are routed into queue, they are persistent on disk\n",
    "    * If a consumers goes down during processing, the message will go back onto the queue\n",
    "        * Consumers need to acknowledge that a message was processed / not processed\n",
    "* Queues are FIFO unless sent to a priority or a sharded queue\n",
    "    * Sharded queue: Split a single logical queue into concurrent queues\n",
    "        * Gain: Speed; Loss: Total Order\n",
    "    * Priority Queue: When messages have importance ranking associated with them\n",
    "* Exchange Types: \n",
    "    * Direct (one-to-one)\n",
    "        * One to one delibery to a single queue\n",
    "    * Fanout (broadcast, one-to-many)  \n",
    "        * One to many broadcast delivery of duplicate messages to queue\n",
    "    * Topic (pub / sub)\n",
    "        * Uses a routing key to deliver to specific queues\n",
    "    * Headers (filter on message headers)\n",
    "        * Routing based on pattern-matched message headers\n"
   ]
  },
  {
   "cell_type": "code",
   "execution_count": null,
   "id": "b99b309e",
   "metadata": {},
   "outputs": [],
   "source": []
  }
 ],
 "metadata": {
  "kernelspec": {
   "display_name": "Python 3",
   "language": "python",
   "name": "python3"
  },
  "language_info": {
   "codemirror_mode": {
    "name": "ipython",
    "version": 3
   },
   "file_extension": ".py",
   "mimetype": "text/x-python",
   "name": "python",
   "nbconvert_exporter": "python",
   "pygments_lexer": "ipython3",
   "version": "3.8.2"
  }
 },
 "nbformat": 4,
 "nbformat_minor": 5
}
