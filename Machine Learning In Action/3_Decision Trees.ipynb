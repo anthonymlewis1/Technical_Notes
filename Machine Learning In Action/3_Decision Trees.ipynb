{
 "cells": [
  {
   "cell_type": "markdown",
   "metadata": {},
   "source": [
    "# Chapter 3: Splitting datasets one feature at a time: decision trees\n",
    "\n",
    "* The most commonly used technique!\n",
    "* Humans can very easily understand the data\n",
    "* Basis:\n",
    "    * Decision Tree: Flowchart of decisions to make\n",
    "    * Decision Blocks: Specific decision to make\n",
    "    * Terminating Block: Conclusion reached\n",
    "    * Branches: Links that lead to other decision blocks or a terminating block\n",
    "\n",
    "## Tree Construction\n",
    "* Pros:\n",
    "    * Computationally cheap\n",
    "    * Easy for humans to understand learned results\n",
    "    * Missing values OK\n",
    "    * Can deal with irrelevant features\n",
    "* Cons:\n",
    "    * Prone to overfitting\n",
    "* Works with:\n",
    "    * Numeric values\n",
    "    * Nominal values\n",
    "\n",
    "* To build a decision tree you need to determine which features should split the data\n",
    "* Pseudocode:\n",
    "    * Check if every item in the dataset is in the same class\n",
    "    * Yes:\n",
    "        * Return the class label\n",
    "    * No\n",
    "        * Find the best feature to split the data\n",
    "        * Split the dataset\n",
    "        * Create a branch node\n",
    "        * For each split:\n",
    "            * Call originalfunction and add the result to the branch node\n",
    "        * Return the branch node\n",
    "\n",
    "* General Approach:\n",
    "    * Collect: Any method\n",
    "    * Prepare: Works only on nominal values so continuous values must be quantized\n",
    "    * Analyze: Visually inspect the tree after it is built\n",
    "    * Train: Construct a tree data structure\n",
    "    * Test: Calculate the error rate with the learned tree\n",
    "    * Use: Understand the data"
   ]
  },
  {
   "cell_type": "markdown",
   "metadata": {},
   "source": []
  }
 ],
 "metadata": {
  "language_info": {
   "name": "python"
  },
  "orig_nbformat": 4
 },
 "nbformat": 4,
 "nbformat_minor": 2
}
