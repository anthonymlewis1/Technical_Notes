{
 "cells": [
  {
   "cell_type": "markdown",
   "id": "union-aging",
   "metadata": {},
   "source": [
    "# Advanced SQL for Data Scientists"
   ]
  },
  {
   "cell_type": "markdown",
   "id": "instructional-model",
   "metadata": {},
   "source": [
    "## Chapter 1: Overview\n",
    "\n",
    "### Data Management Operations\n",
    "* Linking data from different data stores\n",
    "* Filtering and reformatting data for different uses\n",
    "* Aggregating data to provide 'big picture' summaries\n",
    "* Answering specific questions about business operations\n",
    "\n",
    "### Data Sources\n",
    "* Relational Databases\n",
    "* NoSQL Database:\n",
    "    * Non-relational databases: NoSQL\n",
    "* "
   ]
  }
 ],
 "metadata": {
  "kernelspec": {
   "display_name": "Python 3",
   "language": "python",
   "name": "python3"
  },
  "language_info": {
   "codemirror_mode": {
    "name": "ipython",
    "version": 3
   },
   "file_extension": ".py",
   "mimetype": "text/x-python",
   "name": "python",
   "nbconvert_exporter": "python",
   "pygments_lexer": "ipython3",
   "version": "3.6.5"
  }
 },
 "nbformat": 4,
 "nbformat_minor": 5
}
