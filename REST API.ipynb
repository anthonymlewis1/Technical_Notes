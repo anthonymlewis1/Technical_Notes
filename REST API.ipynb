{
 "cells": [
  {
   "cell_type": "markdown",
   "metadata": {},
   "source": [
    "# REST API Guide\n",
    "\n",
    "\n",
    "### What is an API?\n",
    "* API = Application Programming Interface\n",
    "    * Set of rules to facilitate program communication\n",
    "* A ***Requester*** will ask a ***Responder*** for information via a request\n",
    "* Advantages: \n",
    "  * All parties don't need to know each others inner workings!\n",
    "  * Allows for different technologies to communicate in a standard way\n",
    "\n",
    "### What is a REST API?\n",
    "* REST = **R**epresentational **S**tate **T**ransfer\n",
    "* Endpoint = Way for a client to access data\n",
    "* REST API Mandates:\n",
    "    * REST treats any data as a *resource* to be manipulated\n",
    "      * Fetched\n",
    "      * Edited\n",
    "      * Deleted\n",
    "    * Requesters must access a URL and send a *request*\n",
    "      * Server then will send an appropriate *response*\n",
    "      * EX: \n",
    "        * Protocol: If given n then return n+1\n",
    "        * Client does a GET 1 and receives 2\n",
    "    * REST is stateless\n",
    "        * All infomation must be in the package\n",
    "        * Clients cannot assume that the server remembers things!\n",
    "\n",
    "        \n",
    "### How to use a REST API?\n",
    "* REST Operations:\n",
    "  * ***GET***: Gets 1 or more resources\n",
    "  * ***POST***: Creates 1 or more resources\n",
    "  * ***PUT***: Updates 1 or more resources\n",
    "  * ***DELETE***: Deletes 1 or more resources\n",
    "* Different network responses have different status codes\n",
    "  * 200: SUCCESS/OK\n",
    "  * 201: CREATED\n",
    "    * Generally for after a successful POST\n",
    "  * 202: ACCEPTED\n",
    "    * Request is acknowledged by the server\n",
    "  * 400: BAD REQUEST\n",
    "  * 401: UNAUTHORIZED\n",
    "\n",
    "### REST API Building Principles\n",
    "\n",
    "#### Keep it Simple:\n",
    "``` \n",
    "/products\n",
    "/products/12345\n",
    "```\n",
    "\n",
    "#### Use nouns and not verbs\n",
    "```\n",
    "/products\n",
    "```\n",
    "\n",
    "#### Use parameters\n",
    "```\n",
    "/products?name='ABC >>> /getProductsByName\n",
    "/prodcuts?type='xyz' >>> /getProductsByType\n",
    "```\n",
    "***"
   ]
  },
  {
   "cell_type": "code",
   "execution_count": null,
   "metadata": {},
   "outputs": [],
   "source": []
  }
 ],
 "metadata": {
  "kernelspec": {
   "display_name": "Python 3",
   "language": "python",
   "name": "python3"
  },
  "language_info": {
   "codemirror_mode": {
    "name": "ipython",
    "version": 3
   },
   "file_extension": ".py",
   "mimetype": "text/x-python",
   "name": "python",
   "nbconvert_exporter": "python",
   "pygments_lexer": "ipython3",
   "version": "3.6.5"
  },
  "widgets": {
   "application/vnd.jupyter.widget-state+json": {
    "state": {},
    "version_major": 2,
    "version_minor": 0
   }
  }
 },
 "nbformat": 4,
 "nbformat_minor": 2
}
