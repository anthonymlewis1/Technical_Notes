{
 "cells": [
  {
   "cell_type": "code",
   "execution_count": null,
   "metadata": {},
   "outputs": [],
   "source": [
    "# Kubernetes In Action Notes"
   ]
  },
  {
   "cell_type": "markdown",
   "metadata": {},
   "source": [
    "## Chapter 2: First steps with Docker and Kubernetes\n",
    "\n",
    "### Docker Commands:\n",
    "* docker run <image>:<tag>\n",
    "* docker build <path>\n",
    "* docker images\n",
    "* docker ps\n",
    "* docker inspect <container>\n",
    "* docker exec -it <container> bash\n",
    "* docker stop <container>\n",
    "* docker rm <container>\n",
    "* docker tag <container> <tag>\n",
    "* docker push <tag>\n",
    "* docker pull <tag>\n",
    "\n",
    "### Docker Principles\n",
    "* When Docker builds, it creates a layer for each individual command in the Dockerfile\n",
    "* If you enter an image, execute commands, exit and commit the final state, this is what happens automatically in a Dockerfile\n",
    "\n",
    "### Gcloud Commands\n",
    "* gcloud container clusters create <name> --num-nodes <quantity> --machine-type <type>\n",
    "* gcloud compute ssh <node-name>: \n",
    "\n",
    "### Kubernetes Commands\n",
    "* kubectl cluster-info: Shows various stats about the cluster\n",
    "* kubectl get nodes: Lists the nodes in the cluster\n",
    "* kubectl get pods: Lists the pods in a node\n",
    "* kubectl describe <node>: Gives detailed information about a node\n",
    "* kubectl describe <pod>: Gives detailed information about a pod\n",
    "* kubectl scale <object_type> <object_name> --replicas=<quantity>\n",
    "\n",
    "### Kubernetes Principles\n",
    "* Kubernetes uses pods instead of individual containers\n",
    "    * Pods: Co-located containers that run together on the same worker node and namespace\n",
    "    * Pods can be single applications/processes or an additional supporting application\n",
    "    * All containers in a pod will appear as if they're running on the same logical machine\n",
    "    * Containers in the same node but different pods will appear to be on different machines\n",
    "* Worker nodes hold pods and pods hold containers\n",
    "* Scheduling: Assigning a pod to a node\n",
    "* kubectl workflow:\n",
    "    * kubectl issues a REST call\n",
    "    * Pod is created and scheduled to a worker node\n",
    "    * Worker node kubelet instructs Docker to run the image\n",
    "    * Docker pulls and runs the image\n",
    "* Important Main Components:\n",
    "    * Pod:\n",
    "        * Primarily building block of the system\n",
    "        * Can contain 1 or n containers\n",
    "        * Pods have their own unique private IP and hostname\n",
    "    * ReplicationController:\n",
    "        * Master architect for ensuring that user instructions get fulfilled\n",
    "        * You want 1 node then you get 1 node\n",
    "    * Services:\n",
    "        * Pods last a very short amount of time and can be deleted for any reason\n",
    "        * Services only have 1 static IP\n",
    "        * Connect to the service rather than connect to the ever-changing pods!\n",
    "* Kubernetes has a declarative archictecture\n",
    "    * Tell K8s the desired state. Not how to get there\n",
    "* Kubernetes is trivial to horizontally scale\n",
    "    * When >1 pod instances is in a service, the service load balances across all instances"
   ]
  },
  {
   "cell_type": "markdown",
   "metadata": {},
   "source": []
  }
 ],
 "metadata": {
  "language_info": {
   "name": "python"
  },
  "orig_nbformat": 4
 },
 "nbformat": 4,
 "nbformat_minor": 2
}
