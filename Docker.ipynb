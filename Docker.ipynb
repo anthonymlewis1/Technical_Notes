{
 "cells": [
  {
   "cell_type": "markdown",
   "metadata": {},
   "source": [
    "# Docker Guide\n",
    "\n",
    "## Docker Principles\n",
    "* Tool for creating/deploying/running applications\n",
    "* Containers package up *all* libraries/dependencies and deploys it as one package\n",
    "* Similar to VM Generation!\n",
    "    * Rather than creating a whole OS, it uses a Linux Kernel and only requires external dependencies to be packaged!\n",
    "* In many companies, microservices run in Docker containers! \n",
    "\n",
    "* Benefits:\n",
    "  * Will run on any Linux machine regardless of customization!\n",
    "      * Don't need to worry about system deployment\n",
    "\n",
    "## Understanding Containers\n",
    "\n",
    "* ***Builder***: Technology used to build a container\n",
    "* ***Engine***: Technology used to run a container\n",
    "* ***Orchestration***: Technology used to manage many containers\n",
    "\n",
    "* While there is security in Docker, containers need to take proper security measures!\n",
    "* Benefits:\n",
    "    * Containers can start/stop/crash gracefully\n",
    "    * Containers are cheap to start\n",
    "    * Automated not manual monitoring\n",
    "* Container Orchestration and Hosting software\n",
    "    * Kubernetes\n"
   ]
  }
 ],
 "metadata": {
  "kernelspec": {
   "display_name": "Python 3",
   "language": "python",
   "name": "python3"
  },
  "language_info": {
   "codemirror_mode": {
    "name": "ipython",
    "version": 3
   },
   "file_extension": ".py",
   "mimetype": "text/x-python",
   "name": "python",
   "nbconvert_exporter": "python",
   "pygments_lexer": "ipython3",
   "version": "3.6.5"
  },
  "widgets": {
   "application/vnd.jupyter.widget-state+json": {
    "state": {},
    "version_major": 2,
    "version_minor": 0
   }
  }
 },
 "nbformat": 4,
 "nbformat_minor": 2
}
