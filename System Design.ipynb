{
 "cells": [
  {
   "cell_type": "markdown",
   "id": "formed-blink",
   "metadata": {},
   "source": [
    "# System Design"
   ]
  },
  {
   "cell_type": "markdown",
   "id": "aging-walter",
   "metadata": {},
   "source": [
    "### Design Problems\n",
    "* Steps: \n",
    "  * Handle ambiguity\n",
    "    * What type of information is being handled?\n",
    "    * Determine business limitations & opportunities\n",
    "    * Ask questions! What do we need?\n",
    "  * Take a systematic approach\n",
    "    * What does X look like?\n",
    "    * Are there inputs/outputs?\n",
    "  * How do we want to represent this?\n",
    "    * Class Hierarchy / OOP Approach\n",
    "        * Can we use inheritance to best code the problem?\n",
    "        * What kind of methods do we need?\n",
    "    * Coding Questions Approach / Algorithms\n",
    "        * How can we do this efficiently?\n",
    "        * Can we mention databases?\n",
    "        * What databases are appropriate for this?\n"
   ]
  },
  {
   "cell_type": "markdown",
   "id": "wired-sixth",
   "metadata": {},
   "source": [
    "### Section 1: Networks and Protocols\n",
    "\n",
    "* Protocols: System of rules/structure/agreed-upon procedures\n",
    "\n",
    "#### IP: Internet Procol\n",
    "* Fundamental layer of protocols\n",
    "* Messages communicated in packets"
   ]
  },
  {
   "cell_type": "code",
   "execution_count": null,
   "id": "encouraging-description",
   "metadata": {},
   "outputs": [],
   "source": []
  }
 ],
 "metadata": {
  "kernelspec": {
   "display_name": "Python 3",
   "language": "python",
   "name": "python3"
  },
  "language_info": {
   "codemirror_mode": {
    "name": "ipython",
    "version": 3
   },
   "file_extension": ".py",
   "mimetype": "text/x-python",
   "name": "python",
   "nbconvert_exporter": "python",
   "pygments_lexer": "ipython3",
   "version": "3.6.5"
  }
 },
 "nbformat": 4,
 "nbformat_minor": 5
}
